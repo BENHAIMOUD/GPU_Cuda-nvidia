{
  "nbformat": 4,
  "nbformat_minor": 0,
  "metadata": {
    "colab": {
      "name": "Mini_Projet.ipynb",
      "provenance": [],
      "collapsed_sections": []
    },
    "kernelspec": {
      "name": "python3",
      "display_name": "Python 3"
    },
    "language_info": {
      "name": "python"
    },
    "accelerator": "GPU"
  },
  "cells": [
    {
      "cell_type": "markdown",
      "source": [
        "✅\\\n",
        "Solution Proposée Pour le **Mini Projet**\\\n",
        "  Préparer par l'étudiant ***Ayoub BENHAIMOUD***"
      ],
      "metadata": {
        "id": "kE9mGzPiRFUP"
      }
    },
    {
      "cell_type": "code",
      "execution_count": null,
      "metadata": {
        "id": "yqSK5DMN1zaz"
      },
      "outputs": [],
      "source": [
        "!apt-get --purge remove cuda nvidia* libnvidia-*\n",
        "!dpkg -l | grep cuda- | awk '{print $2}' | xargs -n1 dpkg --purge\n",
        "!apt-get remove cuda-*\n",
        "!apt autoremove\n",
        "!apt-get update"
      ]
    },
    {
      "cell_type": "code",
      "source": [
        "!wget https://developer.nvidia.com/compute/cuda/9.2/Prod/local_installers/cuda-repo-ubuntu1604-9-2-local_9.2.88-1_amd64 -O cuda-repo-ubuntu1604-9-2-local_9.2.88-1_amd64.deb\n",
        "!dpkg -i cuda-repo-ubuntu1604-9-2-local_9.2.88-1_amd64.deb\n",
        "!apt-key add /var/cuda-repo-9-2-local/7fa2af80.pub\n",
        "!apt-get update\n",
        "!apt-get install cuda-9.2"
      ],
      "metadata": {
        "id": "IcZk5CXI2hyh"
      },
      "execution_count": null,
      "outputs": []
    },
    {
      "cell_type": "code",
      "source": [
        "!nvcc --version"
      ],
      "metadata": {
        "id": "rY5ESCDO4s4M"
      },
      "execution_count": null,
      "outputs": []
    },
    {
      "cell_type": "code",
      "source": [
        "!pip install git+https://github.com/andreinechaev/nvcc4jupyter.git"
      ],
      "metadata": {
        "id": "L0HDITMo4zYI"
      },
      "execution_count": null,
      "outputs": []
    },
    {
      "cell_type": "code",
      "source": [
        "%load_ext nvcc_plugin"
      ],
      "metadata": {
        "id": "jFDRSCigIDQp"
      },
      "execution_count": null,
      "outputs": []
    },
    {
      "cell_type": "markdown",
      "source": [
        "# Vérification de l'environnement CUDA"
      ],
      "metadata": {
        "id": "_gW8S_42Ro-j"
      }
    },
    {
      "cell_type": "code",
      "source": [
        "%%cu\n",
        "#include <iostream>\n",
        "\tint\n",
        "\tmain()\n",
        "{\n",
        "\tstd::cout << \"Welcome To Ayoub BENHAIMOUD\\n\";\n",
        "\treturn 0;\n",
        "}\n"
      ],
      "metadata": {
        "colab": {
          "base_uri": "https://localhost:8080/",
          "height": 0
        },
        "id": "shTV6gD946Of",
        "outputId": "4cc68718-87f4-4a72-fde8-59578e454c6d"
      },
      "execution_count": 10,
      "outputs": [
        {
          "output_type": "stream",
          "name": "stdout",
          "text": [
            "Welcome To Ayoub BENHAIMOUD\n",
            "\n"
          ]
        }
      ]
    },
    {
      "cell_type": "markdown",
      "source": [
        "La somme de deux matrices sur GPU en utilisant une grille 1D "
      ],
      "metadata": {
        "id": "R5Ucz8Z9RwLe"
      }
    },
    {
      "cell_type": "code",
      "source": [
        "%%cu\n",
        "#include<stdio.h>\n",
        "#include<cuda.h>\n",
        "__global__ void matadd(int *l,int *m, int *n)\n",
        "{\n",
        "    int x=blockIdx.x;\n",
        "    int y=blockIdx.y;\n",
        "    int id=gridDim.x * y +x;\n",
        "    n[id]=l[id]+m[id];\n",
        "}\n",
        "\n",
        "int main()\n",
        "{\n",
        "    int a[2][2];\n",
        "    int b[2][2];\n",
        "    int c[2][2];\n",
        "    int *d,*e,*f;\n",
        "    int i,j;\n",
        "    printf(\"\\n Les elements of first matrix of size 2 * 2\\n\");\n",
        "    for(i=0;i<2;i++)\n",
        "    {\n",
        "        for(j=0;j<2;j++)\n",
        "            {\n",
        "                a[i][j]=rand() % 20;\n",
        "            }\n",
        "    }\n",
        "    for(i=0;i<2;i++)\n",
        "          {\n",
        "            for(j=0;j<2;j++)\n",
        "            {\n",
        "               printf(\"%d;\",a[i][j]);\n",
        "            }\n",
        "          }\n",
        "   \n",
        "    printf(\"\\n Les elements of second matrix of size 2 * 2\\n\");\n",
        "        for(i=0;i<2;i++)\n",
        "        {\n",
        "            for(j=0;j<2;j++)\n",
        "                {\n",
        "                    b[i][j]=rand() % 30;\n",
        "                }\n",
        "        }\n",
        "      for(i=0;i<2;i++)\n",
        "          {\n",
        "            for(j=0;j<2;j++)\n",
        "            {\n",
        "               printf(\"%d;\",b[i][j]);\n",
        "            }\n",
        "          }\n",
        "    cudaMalloc((void **)&d,2*2*sizeof(int));\n",
        "    cudaMalloc((void **)&e,2*2*sizeof(int));\n",
        "    cudaMalloc((void **)&f,2*2*sizeof(int));\n",
        " cudaMemcpy(d,a,2*2*sizeof(int),cudaMemcpyHostToDevice);\n",
        " cudaMemcpy(e,b,2*2*sizeof(int),cudaMemcpyHostToDevice);\n",
        "    \n",
        "dim3 grid(2,1);\n",
        "/* Here we are defining one dimensional Grid(collection of blocks) structure. Syntax is dim3 grid(no. of columns,no. of rows) */\n",
        "\n",
        "    matadd<<<grid,2>>>(d,e,f);\n",
        "\n",
        " cudaMemcpy(c,f,2*2*sizeof(int),cudaMemcpyDeviceToHost);\n",
        "    printf(\"\\nSum of two matrices:\\n \");\n",
        "    for(i=0;i<2;i++)\n",
        "    {\n",
        "        for(j=0;j<2;j++)\n",
        "        {\n",
        "              printf(\"%d\\t\",c[i][j]);\n",
        "        }\n",
        "        printf(\"\\n\");\n",
        "    }\n",
        "    cudaFree(d);\n",
        "    cudaFree(e);\n",
        "    cudaFree(f);\n",
        "    return 0;\n",
        "}"
      ],
      "metadata": {
        "colab": {
          "base_uri": "https://localhost:8080/",
          "height": 0
        },
        "id": "5Mk10yiXI_xZ",
        "outputId": "b37ed445-cc11-4dd5-9b68-be39ce4db9cf"
      },
      "execution_count": 46,
      "outputs": [
        {
          "output_type": "stream",
          "name": "stdout",
          "text": [
            "\n",
            " Les elements of first matrix of size 2 * 2\n",
            "3;6;17;15;\n",
            " Les elements of second matrix of size 2 * 2\n",
            "23;25;16;12;\n",
            "Sum of two matrices:\n",
            " 26\t31\t\n",
            "0\t0\t\n",
            "\n"
          ]
        }
      ]
    },
    {
      "cell_type": "markdown",
      "source": [
        "La somme de deux matrices sur GPU en utilisant une grille 1D"
      ],
      "metadata": {
        "id": "TMkBbZW8SNxb"
      }
    },
    {
      "cell_type": "code",
      "source": [
        "%%cu\n",
        "#include<stdio.h>\n",
        "#include<cuda.h>\n",
        "__global__ void matadd(int *l,int *m, int *n)\n",
        "{\n",
        "    int x=blockIdx.x;\n",
        "    int y=blockIdx.y;\n",
        "    int id=gridDim.x * y +x;\n",
        "    n[id]=l[id]+m[id];\n",
        "}\n",
        "\n",
        "int main()\n",
        "{\n",
        "    int a[2][2];\n",
        "    int b[2][2];\n",
        "    int c[2][2];\n",
        "    int *d,*e,*f;\n",
        "    int i,j;\n",
        "    printf(\"\\n Les elements of first matrix of size 2 * 2\\n\");\n",
        "    for(i=0;i<2;i++)\n",
        "    {\n",
        "        for(j=0;j<2;j++)\n",
        "            {\n",
        "                a[i][j]=rand() % 20;\n",
        "            }\n",
        "    }\n",
        "    for(i=0;i<2;i++)\n",
        "          {\n",
        "            for(j=0;j<2;j++)\n",
        "            {\n",
        "               printf(\"%d;\",a[i][j]);\n",
        "            }\n",
        "          }\n",
        "   \n",
        "    printf(\"\\n Les elements of second matrix of size 2 * 2\\n\");\n",
        "        for(i=0;i<2;i++)\n",
        "        {\n",
        "            for(j=0;j<2;j++)\n",
        "                {\n",
        "                    b[i][j]=rand() % 30;\n",
        "                }\n",
        "        }\n",
        "      for(i=0;i<2;i++)\n",
        "          {\n",
        "            for(j=0;j<2;j++)\n",
        "            {\n",
        "               printf(\"%d;\",b[i][j]);\n",
        "            }\n",
        "          }\n",
        "    cudaMalloc((void **)&d,2*2*sizeof(int));\n",
        "    cudaMalloc((void **)&e,2*2*sizeof(int));\n",
        "    cudaMalloc((void **)&f,2*2*sizeof(int));\n",
        " cudaMemcpy(d,a,2*2*sizeof(int),cudaMemcpyHostToDevice);\n",
        " cudaMemcpy(e,b,2*2*sizeof(int),cudaMemcpyHostToDevice);\n",
        "    \n",
        "dim3 grid(2,2);\n",
        "/* Here we are defining two dimensional Grid(collection of blocks) structure. Syntax is dim3 grid(no. of columns,no. of rows) */\n",
        "\n",
        "    matadd<<<grid,2>>>(d,e,f);\n",
        "\n",
        " cudaMemcpy(c,f,2*2*sizeof(int),cudaMemcpyDeviceToHost);\n",
        "    printf(\"\\nSum of two matrices:\\n \");\n",
        "    for(i=0;i<2;i++)\n",
        "    {\n",
        "        for(j=0;j<2;j++)\n",
        "        {\n",
        "              printf(\"%d\\t\",c[i][j]);\n",
        "        }\n",
        "        printf(\"\\n\");\n",
        "    }\n",
        "    cudaFree(d);\n",
        "    cudaFree(e);\n",
        "    cudaFree(f);\n",
        "    return 0;\n",
        "}"
      ],
      "metadata": {
        "colab": {
          "base_uri": "https://localhost:8080/",
          "height": 0
        },
        "id": "a8WCaMVDSMRW",
        "outputId": "59cd673b-edb3-4351-9f25-589c7152717f"
      },
      "execution_count": 47,
      "outputs": [
        {
          "output_type": "stream",
          "name": "stdout",
          "text": [
            "\n",
            " Les elements of first matrix of size 2 * 2\n",
            "3;6;17;15;\n",
            " Les elements of second matrix of size 2 * 2\n",
            "23;25;16;12;\n",
            "Sum of two matrices:\n",
            " 26\t31\t\n",
            "33\t27\t\n",
            "\n"
          ]
        }
      ]
    },
    {
      "cell_type": "markdown",
      "source": [
        "La multiplication de deux matrices sur GPU en utilisant soit\n",
        "une grille 1D soit une grille 2D"
      ],
      "metadata": {
        "id": "xm6-3g-ESMwY"
      }
    },
    {
      "cell_type": "code",
      "source": [
        "%%cu\n",
        "#include<cuda.h>\n",
        "#include<stdio.h>\n",
        "int main(void) {\n",
        "    \n",
        "void MatrixMultiplication(float *, float *, float *, int);\n",
        "      const int Width = 5;\n",
        "      float M[Width*Width], N[Width*Width], P[Width*Width];\n",
        "      for(int i = 0; i < (Width*Width) ; i++) {\n",
        "          M[i] = 5;\n",
        "          N[i] = 5;\n",
        "          P[i] = 0;\n",
        "      }\n",
        "      MatrixMultiplication(M, N, P, Width);\n",
        "      for(int i = 0; i < (Width*Width) ; i++) {\n",
        "          printf(\"%f \\n\", P[i]);\n",
        "      }\n",
        "      int quit;\n",
        "      scanf(\"%d\",&quit);\n",
        "\n",
        "      return 0;\n",
        "}\n",
        "\n",
        "//Matrix multiplication kernel - thread specification\n",
        "__global__ void MatrixMulKernel(float *Md, float *Nd, float *Pd, int Width) {\n",
        "    \n",
        "    //2D Thread ID\n",
        "    int tx = threadIdx.x;\n",
        "    int ty = threadIdx.y;\n",
        "    \n",
        "    //Pvalue stores the Pd element that is computed by the thread\n",
        "    float Pvalue = 0;\n",
        "    for(int k = 0; k < Width ; ++k) {\n",
        "        float Mdelement = Md[ty*Width + k];\n",
        "        float Ndelement = Nd[k*Width + tx];\n",
        "        Pvalue += (Mdelement*Ndelement);\n",
        "    }\n",
        "    Pd[ty*Width + tx] = Pvalue;\n",
        "}\n",
        "void MatrixMultiplication(float *M, float *N, float *P, int Width) {\n",
        "      int size = Width*Width*sizeof(float);\n",
        "      float *Md, *Nd, *Pd;\n",
        "      //Transfer M and N to device memory\n",
        "      cudaMalloc((void**)&Md, size);\n",
        "      cudaMemcpy(Md,M,size,cudaMemcpyHostToDevice);\n",
        "      cudaMalloc((void**)&Nd, size);\n",
        "      cudaMemcpy(Nd,N,size,cudaMemcpyHostToDevice);\n",
        "      //Allocate P on the device\n",
        "      cudaMalloc((void**)&Pd,size);\n",
        "      //Setup the execution configuration\n",
        "      dim3 dimBlock(Width,Width);\n",
        "      dim3 dimGrid(1,1);\n",
        "      //Launch the device computation threads!\n",
        "      MatrixMulKernel<<<dimGrid,dimBlock>>>(Md,Nd,Pd,Width);\n",
        "      //Transfer P from device to host\n",
        "      cudaMemcpy(P,Pd,size,cudaMemcpyDeviceToHost);\n",
        "      //Free device matrices\n",
        "      cudaFree(Md);\n",
        "      cudaFree(Nd);\n",
        "      cudaFree(Pd);\n",
        "}"
      ],
      "metadata": {
        "colab": {
          "base_uri": "https://localhost:8080/",
          "height": 0
        },
        "id": "ksP_TOZ8So5v",
        "outputId": "17aabe17-3052-4e8f-9dea-2241045cde76"
      },
      "execution_count": 49,
      "outputs": [
        {
          "output_type": "stream",
          "name": "stdout",
          "text": [
            "125.000000 \n",
            "125.000000 \n",
            "125.000000 \n",
            "125.000000 \n",
            "125.000000 \n",
            "125.000000 \n",
            "125.000000 \n",
            "125.000000 \n",
            "125.000000 \n",
            "125.000000 \n",
            "125.000000 \n",
            "125.000000 \n",
            "125.000000 \n",
            "125.000000 \n",
            "125.000000 \n",
            "125.000000 \n",
            "125.000000 \n",
            "125.000000 \n",
            "125.000000 \n",
            "125.000000 \n",
            "125.000000 \n",
            "125.000000 \n",
            "125.000000 \n",
            "125.000000 \n",
            "125.000000 \n",
            "\n"
          ]
        }
      ]
    },
    {
      "cell_type": "markdown",
      "source": [
        "## **DONE**\n",
        "\n",
        "\n",
        "\n",
        "---\n",
        "\n",
        "\n",
        "\n",
        "\n",
        "\n",
        "\n",
        "\n",
        "\n",
        "\n",
        "\n",
        "\n"
      ],
      "metadata": {
        "id": "k8jqU82fV3ge"
      }
    }
  ]
}